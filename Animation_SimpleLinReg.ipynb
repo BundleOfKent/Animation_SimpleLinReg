{
 "cells": [
  {
   "cell_type": "markdown",
   "metadata": {},
   "source": [
    "# Gradient descent animation: 1. Simple linear regression"
   ]
  },
  {
   "cell_type": "code",
   "execution_count": 1,
   "metadata": {},
   "outputs": [],
   "source": [
    "# Import libraries\n",
    "import numpy as np\n",
    "import matplotlib.pyplot as plt\n",
    "from mpl_toolkits.mplot3d import Axes3D\n",
    "import celluloid\n",
    "from celluloid import Camera\n",
    "\n",
    "\n",
    "# Simple linear regression model:\n",
    "class LinearRegression(object):\n",
    "    def __init__(self,w=1,b=1, lr=0.01): \n",
    "        self.lr=lr\n",
    "        self.w=np.array([[w]])\n",
    "        self.b=np.array([b])\n",
    "\n",
    "    def cost(self,x,y):     \n",
    "        pred = x@self.w+self.b  # predicted y-values\n",
    "        e=y-pred             # error term\n",
    "        return np.mean(e**2)  # mean squared error\n",
    "\n",
    "    def fit(self, x,y):\n",
    "        pred = x@self.w+self.b\n",
    "        e=y-pred\n",
    "        dJ_dw=(np.mean(e*(-2*x), axis=0)) # partial derivate of J with respect to w\n",
    "        dJ_db=(np.mean(e*(-2),axis=0)) # partial derivate of J with respect to b\n",
    "        self.w = (self.w.T-self.lr*dJ_dw).T  # update w\n",
    "        self.b = self.b - self.lr*dJ_db    # update b\n",
    "\n",
    "    def predict(self, x):\n",
    "        return (x @ self.w.T + self.b)  # return predicted values\n",
    "\n",
    "    def params(self):\n",
    "        return (self.w,self.b)   # return parameters"
   ]
  },
  {
   "cell_type": "code",
   "execution_count": 2,
   "metadata": {},
   "outputs": [
    {
     "name": "stdout",
     "output_type": "stream",
     "text": [
      "weight: [[-2.]]\n",
      "y-intercept: [2.]\n",
      "costs: 42.66666666666668\n"
     ]
    }
   ],
   "source": [
    "# Introduce training data\n",
    "x_train = np.array([     \n",
    "    [1],\n",
    "    [2],\n",
    "    [4],\n",
    "    [5],\n",
    "    [6],\n",
    "    [7]\n",
    "])\n",
    "\n",
    "y_train = np.array([     \n",
    "    [4],\n",
    "    [-12],\n",
    "    [3],\n",
    "    [-11],\n",
    "    [-5],\n",
    "    [-17]\n",
    "])\n",
    "\n",
    "\n",
    "# Introduce lists where data points are being stored: \n",
    "w_list=[]   # list contains weights\n",
    "b_list=[]   # list contains biases\n",
    "c_list=[]   # list contains costs \n",
    "ys_list=[]  # store arrays of predicted y-values for xs ( -> plot regression line!) \n",
    "cl_list = [] # list contains predicted y-values for x_train ( -> plot connecting lines!) \n",
    "\n",
    "xs= np.array([    # set x-values for regression line plot               \n",
    "            [-3],\n",
    "             [10]\n",
    "             ])\n",
    "\n",
    "# Train model: \n",
    "model=LinearRegression(w=3,b=-1,lr=0.001) # set initial parameters and learning rate \n",
    "\n",
    "for i in range(60000):      # set number of epochs\n",
    "    w_list.append(model.params()[0])    # append weights (=slopes) to list\n",
    "    b_list.append(model.params()[1])    # append biases (=y-intercepts) to list\n",
    "    c_list.append(model.cost(x_train,y_train))  # append costs to list\n",
    "    ys_list.append(model.predict(xs).T)     # append pairs of predicted y-values for xs \n",
    "    cl_list.append(model.predict(x_train).T) # append predicted y-values for x_train to list\n",
    "    model.fit(x_train, y_train) # fit model\n",
    "\n",
    "\n",
    "# print parameters and costs after all epochs\n",
    "print(\"weight: \" + str( model.params()[0]) )  \n",
    "print(\"y-intercept: \" + str( model.params()[1]) )\n",
    "print(\"costs: \"+ str(model.cost(x_train, y_train)))   "
   ]
  },
  {
   "cell_type": "markdown",
   "metadata": {},
   "source": [
    "#### Validate our results with sklearn: "
   ]
  },
  {
   "cell_type": "code",
   "execution_count": 3,
   "metadata": {},
   "outputs": [
    {
     "name": "stdout",
     "output_type": "stream",
     "text": [
      "[[-2.]]\n",
      "[2.]\n"
     ]
    }
   ],
   "source": [
    "import sklearn\n",
    "from sklearn.linear_model import LinearRegression\n",
    "\n",
    "reg = LinearRegression().fit(x_train, y_train)\n",
    "print(reg.coef_)\n",
    "print(reg.intercept_)"
   ]
  },
  {
   "cell_type": "markdown",
   "metadata": {},
   "source": [
    "### 1. Plot: Fit & w/b/costs vs. epochs"
   ]
  },
  {
   "cell_type": "code",
   "execution_count": 4,
   "metadata": {},
   "outputs": [
    {
     "name": "stderr",
     "output_type": "stream",
     "text": [
      "C:\\ProgramData\\Anaconda3\\lib\\site-packages\\ipykernel_launcher.py:20: MatplotlibDeprecationWarning: Adding an axes using the same arguments as a previous axes currently reuses the earlier instance.  In a future version, a new instance will always be created and returned.  Meanwhile, this warning can be suppressed, and the future behavior ensured, by passing a unique label to each axes instance.\n",
      "C:\\ProgramData\\Anaconda3\\lib\\site-packages\\ipykernel_launcher.py:25: MatplotlibDeprecationWarning: Adding an axes using the same arguments as a previous axes currently reuses the earlier instance.  In a future version, a new instance will always be created and returned.  Meanwhile, this warning can be suppressed, and the future behavior ensured, by passing a unique label to each axes instance.\n",
      "C:\\ProgramData\\Anaconda3\\lib\\site-packages\\ipykernel_launcher.py:30: MatplotlibDeprecationWarning: Adding an axes using the same arguments as a previous axes currently reuses the earlier instance.  In a future version, a new instance will always be created and returned.  Meanwhile, this warning can be suppressed, and the future behavior ensured, by passing a unique label to each axes instance.\n",
      "C:\\ProgramData\\Anaconda3\\lib\\site-packages\\ipykernel_launcher.py:36: MatplotlibDeprecationWarning: Adding an axes using the same arguments as a previous axes currently reuses the earlier instance.  In a future version, a new instance will always be created and returned.  Meanwhile, this warning can be suppressed, and the future behavior ensured, by passing a unique label to each axes instance.\n",
      "MovieWriter imagemagick unavailable; trying to use <class 'matplotlib.animation.PillowWriter'> instead.\n"
     ]
    },
    {
     "name": "stdout",
     "output_type": "stream",
     "text": [
      "Slope: -1.9933280497098227\n",
      "y-intercept: 1.9653553483257509\n",
      "final costs: 42.6669125993761\n"
     ]
    },
    {
     "data": {
      "image/png": "[encoded data removed]",
      "text/plain": [
       "<Figure size 720x720 with 4 Axes>"
      ]
     },
     "metadata": {
      "needs_background": "light"
     },
     "output_type": "display_data"
    }
   ],
   "source": [
    "# Define which epochs/data points to plot\n",
    "a=np.arange(0,50,1).tolist()\n",
    "b=np.arange(50,100,5).tolist()\n",
    "c=np.arange(100,12000,200).tolist()\n",
    "p = a+b+c # points we want to plot\n",
    "\n",
    "# Turn lists into arrays\n",
    "w= np.array(w_list).flatten()\n",
    "b= np.array(b_list).flatten()\n",
    "c= np.array(c_list).flatten()\n",
    "ys = np.array(ys_list) \n",
    "p=np.array(p)\n",
    "\n",
    "\n",
    "# Create first animation: \n",
    "fig = plt.figure(figsize=(10,10)) # create figure\n",
    "labelsize_ = 14\n",
    "camera = Camera(fig)  # create camera\n",
    "for i in p:\n",
    "    ax1=fig.add_subplot(3, 2, 2)  \n",
    "    ax1.plot(w[0:i], color='blue', linestyle=\"dashed\", alpha=0.5)\n",
    "    ax1.set_title(\"w\", fontsize=17)\n",
    "    ax1.tick_params(axis='both', which='major', labelsize=labelsize_)\n",
    "\n",
    "    ax2=fig.add_subplot(3, 2, 4, sharex=ax1) # right plots share x-axis. \n",
    "    ax2.plot(b[0:i], color='red', linestyle=\"dashed\", alpha=0.5)\n",
    "    ax2.set_title(\"b\", fontsize=17)\n",
    "    ax2.tick_params(axis='both', which='major', labelsize=labelsize_)\n",
    "\n",
    "    ax3=fig.add_subplot(3, 2, 6, sharex=ax1) \n",
    "    ax3.plot(c[0:i],color='black',linestyle=\"dashed\")\n",
    "    ax3.set_title(\"costs\", fontsize=17)\n",
    "    ax3.tick_params(axis='both', which='major', labelsize=labelsize_)\n",
    "    ax3.set_xlabel(\"epochs\", fontsize=14, labelpad=10)\n",
    "\n",
    "    ax0=fig.add_subplot(1, 2, 1) # plot fit\n",
    "    leg=ax0.plot(xs.T.flatten(),ys[i].flatten(),\n",
    "                 color='r', label=str(i))  # set legend; flatten arrays to get plots!\n",
    "    ax0.scatter(x_train, y_train, color='b',marker='x', s=44)\n",
    "    ax0.legend(leg,[f'epochs: {i}'], loc='upper right', fontsize=15)\n",
    "    ax0.set_title(\"Linear fit\", fontsize=25)\n",
    "    ax0.tick_params(axis='both', which='major', labelsize=labelsize_)\n",
    "    ax0.set_xlabel(\"x\", fontsize=25, labelpad=10)\n",
    "    ax0.set_ylabel(\"y\", fontsize=25, labelpad=10)\n",
    "    ax0.tick_params(axis='both', which='major', labelsize=labelsize_) \n",
    "    ax0.set_ylim([-20, 10])\n",
    "\n",
    "    plt.tight_layout()\n",
    "    camera.snap() # take snapshot after each frame/iteration\n",
    "    \n",
    "animation = camera.animate(interval = 5,\n",
    "                          repeat = False, repeat_delay = 500) # create animation \n",
    "animation.save('SimpleLinReg_1.gif', writer = 'imagemagick') # save animation \n",
    "\n",
    "# Print final parameters and costs portrayed in animations \n",
    "print(\"Slope: \" + str(w[i])) \n",
    "print(\"y-intercept: \" + str(b[i])) \n",
    "print(\"final costs: \" + str(c[i]))"
   ]
  },
  {
   "cell_type": "markdown",
   "metadata": {},
   "source": [
    "### 2. Plot: Fit & weights vs. costs"
   ]
  },
  {
   "cell_type": "code",
   "execution_count": 5,
   "metadata": {},
   "outputs": [
    {
     "name": "stderr",
     "output_type": "stream",
     "text": [
      "C:\\ProgramData\\Anaconda3\\lib\\site-packages\\ipykernel_launcher.py:6: MatplotlibDeprecationWarning: Adding an axes using the same arguments as a previous axes currently reuses the earlier instance.  In a future version, a new instance will always be created and returned.  Meanwhile, this warning can be suppressed, and the future behavior ensured, by passing a unique label to each axes instance.\n",
      "  \n",
      "C:\\ProgramData\\Anaconda3\\lib\\site-packages\\ipykernel_launcher.py:19: MatplotlibDeprecationWarning: Adding an axes using the same arguments as a previous axes currently reuses the earlier instance.  In a future version, a new instance will always be created and returned.  Meanwhile, this warning can be suppressed, and the future behavior ensured, by passing a unique label to each axes instance.\n",
      "C:\\ProgramData\\Anaconda3\\lib\\site-packages\\ipykernel_launcher.py:27: MatplotlibDeprecationWarning: Adding an axes using the same arguments as a previous axes currently reuses the earlier instance.  In a future version, a new instance will always be created and returned.  Meanwhile, this warning can be suppressed, and the future behavior ensured, by passing a unique label to each axes instance.\n",
      "MovieWriter imagemagick unavailable; trying to use <class 'matplotlib.animation.PillowWriter'> instead.\n"
     ]
    },
    {
     "data": {
      "image/png": "[encoded data removed]",
      "text/plain": [
       "<Figure size 720x720 with 3 Axes>"
      ]
     },
     "metadata": {
      "needs_background": "light"
     },
     "output_type": "display_data"
    }
   ],
   "source": [
    "# Second animation\n",
    "fig = plt.figure(figsize=(10,10))\n",
    "camera = Camera(fig)\n",
    "\n",
    "for i in p: # use the same points to plot as before \n",
    "    ax0=fig.add_subplot(2, 1, 1) \n",
    "    leg=ax0.plot(xs.T.flatten(),ys[i].flatten(), color='r', label=str(i))\n",
    "    ax0.scatter(x_train, y_train, color='b',marker='x', s=44)\n",
    "    ax0.vlines(x_train.T, ymin=y_train.T, ymax=cl_list[i],\n",
    "               linestyle=\"dashed\",color='r',alpha=0.3)                 # plot connecting lines\n",
    "    ax0.legend(leg,[f'epochs: {i}'], loc='upper right', fontsize=15)\n",
    "    ax0.set_title(\"Linear fit\", fontsize=25)\n",
    "    ax0.tick_params(axis='both', which='major', labelsize=labelsize_)\n",
    "    ax0.set_xlabel(\"x\", fontsize=25, labelpad=10)\n",
    "    ax0.set_ylabel(\"y\", fontsize=25, labelpad=10)\n",
    "    ax0.tick_params(axis='both', which='major', labelsize=labelsize_) \n",
    "    ax0.set_ylim([-20, 10])\n",
    "    \n",
    "    ax1=fig.add_subplot(2, 2, 3) \n",
    "    ax1.plot(w[i], c[i], marker='x', markersize=13, color=\"orangered\")\n",
    "    ax1.plot(np.array(w_list).flatten(),np.array(c_list).flatten() ,\n",
    "             linestyle='dashed', color=\"blue\")\n",
    "    ax1.set_xlabel(\"w\", fontsize=25)\n",
    "    ax1.set_ylabel(\"costs\", fontsize=25, labelpad=10)\n",
    "    ax1.tick_params(axis='both', which='major', labelsize=labelsize_)\n",
    "\n",
    "    ax2=fig.add_subplot(2, 2, 4, sharey=ax1) \n",
    "    ax2.plot(b[i], c[i], marker='x', markersize=13, color=\"orangered\")\n",
    "    ax2.plot(np.array(b_list).flatten(),np.array(c_list).flatten() ,\n",
    "             linestyle='dashed', color=\"red\")\n",
    "    ax2.set_xlabel(\"b\", fontsize=25)\n",
    "    ax2.tick_params(axis='both', which='major', labelsize=labelsize_)\n",
    "    \n",
    "    plt.tight_layout()\n",
    "    camera.snap()\n",
    "    \n",
    "animation = camera.animate(interval = 5,\n",
    "                          repeat = False, repeat_delay = 500)\n",
    "animation.save('SimpleLinReg_2.gif', writer = 'imagemagick') "
   ]
  },
  {
   "cell_type": "markdown",
   "metadata": {},
   "source": [
    "#### Create meshgrid for surface plot: "
   ]
  },
  {
   "cell_type": "code",
   "execution_count": 6,
   "metadata": {},
   "outputs": [],
   "source": [
    "def cost_3d(x,y,w,b):  # predicts costs for every pair of w and b. \n",
    "        pred = x@w.T+b                       \n",
    "        e=y-pred\n",
    "        return np.mean(e**2)\n",
    "        \n",
    "ws = np.linspace(-5, 5.0, 10) # set range of values for w and b for surface plot\n",
    "bs = np.linspace(-5, 5, 10)\n",
    "M, B = np.meshgrid(ws, bs) # create meshgrid\n",
    "\n",
    "zs = np.array([cost_3d(x_train,y_train,       # determine costs for each pair of w and b \n",
    "                       np.array([[wp]]), np.array([[bp]]))  # cost_3d() only accepts wp and bp as matrices. \n",
    "               for wp, bp in zip(np.ravel(M), np.ravel(B))])\n",
    "Z = zs.reshape(M.shape) # get z-values for surface plot in shape of M."
   ]
  },
  {
   "cell_type": "markdown",
   "metadata": {},
   "source": [
    "### 3. Plot: Fit & 3D surface plot"
   ]
  },
  {
   "cell_type": "code",
   "execution_count": null,
   "metadata": {},
   "outputs": [
    {
     "name": "stderr",
     "output_type": "stream",
     "text": [
      "MovieWriter imagemagick unavailable; trying to use <class 'matplotlib.animation.PillowWriter'> instead.\n"
     ]
    }
   ],
   "source": [
    "# Third Animation\n",
    "fig = plt.figure(figsize=(10,10))  \n",
    "ax1=fig.add_subplot(121)\n",
    "ax1.set_title(\"Linear fit\", fontsize=30 )\n",
    "ax2 = fig.add_subplot(122, projection='3d') # projection='3d'\n",
    "ax2.set_title(\"cost function\", fontsize=30)\n",
    "ax2.view_init(elev=20., azim=145)           # set view\n",
    "camera = Camera(fig)\n",
    "\n",
    "for i in p:       \n",
    "    leg=ax1.plot(xs.T.flatten(),ys[i].flatten(), color='r', label=str(i))  \n",
    "    ax1.vlines(x_train.T, ymin=y_train.T, ymax=cl_list[i], linestyle=\"dashed\",color='r',alpha=0.3)\n",
    "    ax1.scatter(x_train, y_train, color='b',marker='x', s=44)\n",
    "    ax1.legend(leg,[f'epochs: {i}'], loc='upper right', fontsize=15) \n",
    "    ax1.set_xlabel(\"x\", fontsize=25, labelpad=10)\n",
    "    ax1.set_ylabel(\"y\", fontsize=25, labelpad=10)\n",
    "    ax1.tick_params(axis='both', which='major', labelsize=15) \n",
    "    ax1.set_ylim([-20, 10])\n",
    "    \n",
    "    ax2.plot_surface(M, B, Z, rstride=1, cstride=1, color='b', alpha=0.35) # create surface plot\n",
    "    ax2.scatter(w[i],b[i],c[i],marker='o', s=12**2, color='orange' )\n",
    "    ax2.set_xlabel(\"w\", fontsize=25, labelpad=10)\n",
    "    ax2.set_ylabel(\"b\", fontsize=25, labelpad=10)\n",
    "    ax2.set_zlabel(\"costs\", fontsize=25,\n",
    "                   labelpad=-35) # negative value for labelpad places z-label left of z-axis.\n",
    "    ax2.tick_params(axis='both', which='major', labelsize=15) \n",
    "    ax2.plot(w[0:i],b[0:i],c[0:i], linestyle=\"dashed\",linewidth=2, color=\"grey\") # (dashed) lineplot\n",
    "    \n",
    "    plt.tight_layout()\n",
    "    camera.snap()\n",
    "    \n",
    "animation = camera.animate(interval = 5,\n",
    "                          repeat = False, repeat_delay = 500)\n",
    "animation.save('SimpleLinReg_3.gif', writer = 'imagemagick')   "
   ]
  }
 ],
 "metadata": {
  "kernelspec": {
   "display_name": "Python 3",
   "language": "python",
   "name": "python3"
  },
  "language_info": {
   "codemirror_mode": {
    "name": "ipython",
    "version": 3
   },
   "file_extension": ".py",
   "mimetype": "text/x-python",
   "name": "python",
   "nbconvert_exporter": "python",
   "pygments_lexer": "ipython3",
   "version": "3.7.3"
  }
 },
 "nbformat": 4,
 "nbformat_minor": 2
}
